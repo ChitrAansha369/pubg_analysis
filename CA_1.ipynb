{
  "nbformat": 4,
  "nbformat_minor": 0,
  "metadata": {
    "colab": {
      "provenance": []
    },
    "kernelspec": {
      "name": "python3",
      "display_name": "Python 3"
    },
    "language_info": {
      "name": "python"
    }
  },
  "cells": [
    {
      "cell_type": "code",
      "execution_count": 2,
      "metadata": {
        "id": "Ghb8O5E5s6Y_"
      },
      "outputs": [],
      "source": [
        "import numpy as np\n",
        "import pandas as pd\n",
        "import matplotlib.pyplot as plt\n",
        "import seaborn as sns"
      ]
    },
    {
      "cell_type": "code",
      "source": [
        "data=pd.read_csv(\"/content/data.csv\")"
      ],
      "metadata": {
        "id": "nlDEdNLOxG2w"
      },
      "execution_count": 4,
      "outputs": []
    },
    {
      "cell_type": "code",
      "source": [
        "data.head()"
      ],
      "metadata": {
        "colab": {
          "base_uri": "https://localhost:8080/",
          "height": 273
        },
        "id": "o8JwKd8TxOnk",
        "outputId": "04db7134-69a9-4a59-f721-57ac1eca2fff"
      },
      "execution_count": 5,
      "outputs": [
        {
          "output_type": "execute_result",
          "data": {
            "text/plain": [
              "   Unnamed: 0              Id         groupId         matchId  assists  \\\n",
              "0     2093518  a3e3cea9f2e314  c9f6eaa81245b5  a3d8693390584c      0.0   \n",
              "1     3701672  43e4be7ad72cc7  521836de101ee8  b65de9055327e0      0.0   \n",
              "2     2059784  9a68690e31fdff  4a72ffa2cebd90  d6aad3f9830e60      0.0   \n",
              "3     1302036  b147e1bd448fc4  9a8991656b3fea  d931c0932d8aca      0.0   \n",
              "4      297180  d818b4edd59612  eece87c8b846b3  ec2b5ed94baae3      0.0   \n",
              "\n",
              "   boosts  damageDealt  DBNOs  headshotKills  heals  ...  revives  \\\n",
              "0     0.0        25.93    0.0            0.0    0.0  ...      0.0   \n",
              "1     0.0        36.71    0.0            0.0    0.0  ...      0.0   \n",
              "2     1.0        47.73    0.0            0.0    0.0  ...      0.0   \n",
              "3     0.0         0.00    0.0            0.0    0.0  ...      1.0   \n",
              "4     2.0       100.00    0.0            0.0    3.0  ...      0.0   \n",
              "\n",
              "   rideDistance  roadKills  swimDistance  teamKills  vehicleDestroys  \\\n",
              "0           0.0        0.0           0.0        0.0              0.0   \n",
              "1           0.0        0.0           0.0        0.0              0.0   \n",
              "2        4088.0        0.0           0.0        0.0              0.0   \n",
              "3           0.0        0.0           0.0        0.0              0.0   \n",
              "4         918.4        0.0           0.0        0.0              0.0   \n",
              "\n",
              "  walkDistance  weaponsAcquired  winPoints  winPlacePerc  \n",
              "0       151.30              1.0     1525.0        0.0667  \n",
              "1      1918.00              7.0     1516.0        0.5862  \n",
              "2       820.00              7.0        0.0        0.8105  \n",
              "3        38.81              0.0     1515.0        0.5556  \n",
              "4      1721.00              5.0        0.0        0.6429  \n",
              "\n",
              "[5 rows x 30 columns]"
            ],
            "text/html": [
              "\n",
              "  <div id=\"df-f90ca810-6349-4982-99de-950510d6aea4\" class=\"colab-df-container\">\n",
              "    <div>\n",
              "<style scoped>\n",
              "    .dataframe tbody tr th:only-of-type {\n",
              "        vertical-align: middle;\n",
              "    }\n",
              "\n",
              "    .dataframe tbody tr th {\n",
              "        vertical-align: top;\n",
              "    }\n",
              "\n",
              "    .dataframe thead th {\n",
              "        text-align: right;\n",
              "    }\n",
              "</style>\n",
              "<table border=\"1\" class=\"dataframe\">\n",
              "  <thead>\n",
              "    <tr style=\"text-align: right;\">\n",
              "      <th></th>\n",
              "      <th>Unnamed: 0</th>\n",
              "      <th>Id</th>\n",
              "      <th>groupId</th>\n",
              "      <th>matchId</th>\n",
              "      <th>assists</th>\n",
              "      <th>boosts</th>\n",
              "      <th>damageDealt</th>\n",
              "      <th>DBNOs</th>\n",
              "      <th>headshotKills</th>\n",
              "      <th>heals</th>\n",
              "      <th>...</th>\n",
              "      <th>revives</th>\n",
              "      <th>rideDistance</th>\n",
              "      <th>roadKills</th>\n",
              "      <th>swimDistance</th>\n",
              "      <th>teamKills</th>\n",
              "      <th>vehicleDestroys</th>\n",
              "      <th>walkDistance</th>\n",
              "      <th>weaponsAcquired</th>\n",
              "      <th>winPoints</th>\n",
              "      <th>winPlacePerc</th>\n",
              "    </tr>\n",
              "  </thead>\n",
              "  <tbody>\n",
              "    <tr>\n",
              "      <th>0</th>\n",
              "      <td>2093518</td>\n",
              "      <td>a3e3cea9f2e314</td>\n",
              "      <td>c9f6eaa81245b5</td>\n",
              "      <td>a3d8693390584c</td>\n",
              "      <td>0.0</td>\n",
              "      <td>0.0</td>\n",
              "      <td>25.93</td>\n",
              "      <td>0.0</td>\n",
              "      <td>0.0</td>\n",
              "      <td>0.0</td>\n",
              "      <td>...</td>\n",
              "      <td>0.0</td>\n",
              "      <td>0.0</td>\n",
              "      <td>0.0</td>\n",
              "      <td>0.0</td>\n",
              "      <td>0.0</td>\n",
              "      <td>0.0</td>\n",
              "      <td>151.30</td>\n",
              "      <td>1.0</td>\n",
              "      <td>1525.0</td>\n",
              "      <td>0.0667</td>\n",
              "    </tr>\n",
              "    <tr>\n",
              "      <th>1</th>\n",
              "      <td>3701672</td>\n",
              "      <td>43e4be7ad72cc7</td>\n",
              "      <td>521836de101ee8</td>\n",
              "      <td>b65de9055327e0</td>\n",
              "      <td>0.0</td>\n",
              "      <td>0.0</td>\n",
              "      <td>36.71</td>\n",
              "      <td>0.0</td>\n",
              "      <td>0.0</td>\n",
              "      <td>0.0</td>\n",
              "      <td>...</td>\n",
              "      <td>0.0</td>\n",
              "      <td>0.0</td>\n",
              "      <td>0.0</td>\n",
              "      <td>0.0</td>\n",
              "      <td>0.0</td>\n",
              "      <td>0.0</td>\n",
              "      <td>1918.00</td>\n",
              "      <td>7.0</td>\n",
              "      <td>1516.0</td>\n",
              "      <td>0.5862</td>\n",
              "    </tr>\n",
              "    <tr>\n",
              "      <th>2</th>\n",
              "      <td>2059784</td>\n",
              "      <td>9a68690e31fdff</td>\n",
              "      <td>4a72ffa2cebd90</td>\n",
              "      <td>d6aad3f9830e60</td>\n",
              "      <td>0.0</td>\n",
              "      <td>1.0</td>\n",
              "      <td>47.73</td>\n",
              "      <td>0.0</td>\n",
              "      <td>0.0</td>\n",
              "      <td>0.0</td>\n",
              "      <td>...</td>\n",
              "      <td>0.0</td>\n",
              "      <td>4088.0</td>\n",
              "      <td>0.0</td>\n",
              "      <td>0.0</td>\n",
              "      <td>0.0</td>\n",
              "      <td>0.0</td>\n",
              "      <td>820.00</td>\n",
              "      <td>7.0</td>\n",
              "      <td>0.0</td>\n",
              "      <td>0.8105</td>\n",
              "    </tr>\n",
              "    <tr>\n",
              "      <th>3</th>\n",
              "      <td>1302036</td>\n",
              "      <td>b147e1bd448fc4</td>\n",
              "      <td>9a8991656b3fea</td>\n",
              "      <td>d931c0932d8aca</td>\n",
              "      <td>0.0</td>\n",
              "      <td>0.0</td>\n",
              "      <td>0.00</td>\n",
              "      <td>0.0</td>\n",
              "      <td>0.0</td>\n",
              "      <td>0.0</td>\n",
              "      <td>...</td>\n",
              "      <td>1.0</td>\n",
              "      <td>0.0</td>\n",
              "      <td>0.0</td>\n",
              "      <td>0.0</td>\n",
              "      <td>0.0</td>\n",
              "      <td>0.0</td>\n",
              "      <td>38.81</td>\n",
              "      <td>0.0</td>\n",
              "      <td>1515.0</td>\n",
              "      <td>0.5556</td>\n",
              "    </tr>\n",
              "    <tr>\n",
              "      <th>4</th>\n",
              "      <td>297180</td>\n",
              "      <td>d818b4edd59612</td>\n",
              "      <td>eece87c8b846b3</td>\n",
              "      <td>ec2b5ed94baae3</td>\n",
              "      <td>0.0</td>\n",
              "      <td>2.0</td>\n",
              "      <td>100.00</td>\n",
              "      <td>0.0</td>\n",
              "      <td>0.0</td>\n",
              "      <td>3.0</td>\n",
              "      <td>...</td>\n",
              "      <td>0.0</td>\n",
              "      <td>918.4</td>\n",
              "      <td>0.0</td>\n",
              "      <td>0.0</td>\n",
              "      <td>0.0</td>\n",
              "      <td>0.0</td>\n",
              "      <td>1721.00</td>\n",
              "      <td>5.0</td>\n",
              "      <td>0.0</td>\n",
              "      <td>0.6429</td>\n",
              "    </tr>\n",
              "  </tbody>\n",
              "</table>\n",
              "<p>5 rows × 30 columns</p>\n",
              "</div>\n",
              "    <div class=\"colab-df-buttons\">\n",
              "\n",
              "  <div class=\"colab-df-container\">\n",
              "    <button class=\"colab-df-convert\" onclick=\"convertToInteractive('df-f90ca810-6349-4982-99de-950510d6aea4')\"\n",
              "            title=\"Convert this dataframe to an interactive table.\"\n",
              "            style=\"display:none;\">\n",
              "\n",
              "  <svg xmlns=\"http://www.w3.org/2000/svg\" height=\"24px\" viewBox=\"0 -960 960 960\">\n",
              "    <path d=\"M120-120v-720h720v720H120Zm60-500h600v-160H180v160Zm220 220h160v-160H400v160Zm0 220h160v-160H400v160ZM180-400h160v-160H180v160Zm440 0h160v-160H620v160ZM180-180h160v-160H180v160Zm440 0h160v-160H620v160Z\"/>\n",
              "  </svg>\n",
              "    </button>\n",
              "\n",
              "  <style>\n",
              "    .colab-df-container {\n",
              "      display:flex;\n",
              "      gap: 12px;\n",
              "    }\n",
              "\n",
              "    .colab-df-convert {\n",
              "      background-color: #E8F0FE;\n",
              "      border: none;\n",
              "      border-radius: 50%;\n",
              "      cursor: pointer;\n",
              "      display: none;\n",
              "      fill: #1967D2;\n",
              "      height: 32px;\n",
              "      padding: 0 0 0 0;\n",
              "      width: 32px;\n",
              "    }\n",
              "\n",
              "    .colab-df-convert:hover {\n",
              "      background-color: #E2EBFA;\n",
              "      box-shadow: 0px 1px 2px rgba(60, 64, 67, 0.3), 0px 1px 3px 1px rgba(60, 64, 67, 0.15);\n",
              "      fill: #174EA6;\n",
              "    }\n",
              "\n",
              "    .colab-df-buttons div {\n",
              "      margin-bottom: 4px;\n",
              "    }\n",
              "\n",
              "    [theme=dark] .colab-df-convert {\n",
              "      background-color: #3B4455;\n",
              "      fill: #D2E3FC;\n",
              "    }\n",
              "\n",
              "    [theme=dark] .colab-df-convert:hover {\n",
              "      background-color: #434B5C;\n",
              "      box-shadow: 0px 1px 3px 1px rgba(0, 0, 0, 0.15);\n",
              "      filter: drop-shadow(0px 1px 2px rgba(0, 0, 0, 0.3));\n",
              "      fill: #FFFFFF;\n",
              "    }\n",
              "  </style>\n",
              "\n",
              "    <script>\n",
              "      const buttonEl =\n",
              "        document.querySelector('#df-f90ca810-6349-4982-99de-950510d6aea4 button.colab-df-convert');\n",
              "      buttonEl.style.display =\n",
              "        google.colab.kernel.accessAllowed ? 'block' : 'none';\n",
              "\n",
              "      async function convertToInteractive(key) {\n",
              "        const element = document.querySelector('#df-f90ca810-6349-4982-99de-950510d6aea4');\n",
              "        const dataTable =\n",
              "          await google.colab.kernel.invokeFunction('convertToInteractive',\n",
              "                                                    [key], {});\n",
              "        if (!dataTable) return;\n",
              "\n",
              "        const docLinkHtml = 'Like what you see? Visit the ' +\n",
              "          '<a target=\"_blank\" href=https://colab.research.google.com/notebooks/data_table.ipynb>data table notebook</a>'\n",
              "          + ' to learn more about interactive tables.';\n",
              "        element.innerHTML = '';\n",
              "        dataTable['output_type'] = 'display_data';\n",
              "        await google.colab.output.renderOutput(dataTable, element);\n",
              "        const docLink = document.createElement('div');\n",
              "        docLink.innerHTML = docLinkHtml;\n",
              "        element.appendChild(docLink);\n",
              "      }\n",
              "    </script>\n",
              "  </div>\n",
              "\n",
              "\n",
              "<div id=\"df-c1a2227f-60ce-40f9-8836-503f5c403685\">\n",
              "  <button class=\"colab-df-quickchart\" onclick=\"quickchart('df-c1a2227f-60ce-40f9-8836-503f5c403685')\"\n",
              "            title=\"Suggest charts\"\n",
              "            style=\"display:none;\">\n",
              "\n",
              "<svg xmlns=\"http://www.w3.org/2000/svg\" height=\"24px\"viewBox=\"0 0 24 24\"\n",
              "     width=\"24px\">\n",
              "    <g>\n",
              "        <path d=\"M19 3H5c-1.1 0-2 .9-2 2v14c0 1.1.9 2 2 2h14c1.1 0 2-.9 2-2V5c0-1.1-.9-2-2-2zM9 17H7v-7h2v7zm4 0h-2V7h2v10zm4 0h-2v-4h2v4z\"/>\n",
              "    </g>\n",
              "</svg>\n",
              "  </button>\n",
              "\n",
              "<style>\n",
              "  .colab-df-quickchart {\n",
              "      --bg-color: #E8F0FE;\n",
              "      --fill-color: #1967D2;\n",
              "      --hover-bg-color: #E2EBFA;\n",
              "      --hover-fill-color: #174EA6;\n",
              "      --disabled-fill-color: #AAA;\n",
              "      --disabled-bg-color: #DDD;\n",
              "  }\n",
              "\n",
              "  [theme=dark] .colab-df-quickchart {\n",
              "      --bg-color: #3B4455;\n",
              "      --fill-color: #D2E3FC;\n",
              "      --hover-bg-color: #434B5C;\n",
              "      --hover-fill-color: #FFFFFF;\n",
              "      --disabled-bg-color: #3B4455;\n",
              "      --disabled-fill-color: #666;\n",
              "  }\n",
              "\n",
              "  .colab-df-quickchart {\n",
              "    background-color: var(--bg-color);\n",
              "    border: none;\n",
              "    border-radius: 50%;\n",
              "    cursor: pointer;\n",
              "    display: none;\n",
              "    fill: var(--fill-color);\n",
              "    height: 32px;\n",
              "    padding: 0;\n",
              "    width: 32px;\n",
              "  }\n",
              "\n",
              "  .colab-df-quickchart:hover {\n",
              "    background-color: var(--hover-bg-color);\n",
              "    box-shadow: 0 1px 2px rgba(60, 64, 67, 0.3), 0 1px 3px 1px rgba(60, 64, 67, 0.15);\n",
              "    fill: var(--button-hover-fill-color);\n",
              "  }\n",
              "\n",
              "  .colab-df-quickchart-complete:disabled,\n",
              "  .colab-df-quickchart-complete:disabled:hover {\n",
              "    background-color: var(--disabled-bg-color);\n",
              "    fill: var(--disabled-fill-color);\n",
              "    box-shadow: none;\n",
              "  }\n",
              "\n",
              "  .colab-df-spinner {\n",
              "    border: 2px solid var(--fill-color);\n",
              "    border-color: transparent;\n",
              "    border-bottom-color: var(--fill-color);\n",
              "    animation:\n",
              "      spin 1s steps(1) infinite;\n",
              "  }\n",
              "\n",
              "  @keyframes spin {\n",
              "    0% {\n",
              "      border-color: transparent;\n",
              "      border-bottom-color: var(--fill-color);\n",
              "      border-left-color: var(--fill-color);\n",
              "    }\n",
              "    20% {\n",
              "      border-color: transparent;\n",
              "      border-left-color: var(--fill-color);\n",
              "      border-top-color: var(--fill-color);\n",
              "    }\n",
              "    30% {\n",
              "      border-color: transparent;\n",
              "      border-left-color: var(--fill-color);\n",
              "      border-top-color: var(--fill-color);\n",
              "      border-right-color: var(--fill-color);\n",
              "    }\n",
              "    40% {\n",
              "      border-color: transparent;\n",
              "      border-right-color: var(--fill-color);\n",
              "      border-top-color: var(--fill-color);\n",
              "    }\n",
              "    60% {\n",
              "      border-color: transparent;\n",
              "      border-right-color: var(--fill-color);\n",
              "    }\n",
              "    80% {\n",
              "      border-color: transparent;\n",
              "      border-right-color: var(--fill-color);\n",
              "      border-bottom-color: var(--fill-color);\n",
              "    }\n",
              "    90% {\n",
              "      border-color: transparent;\n",
              "      border-bottom-color: var(--fill-color);\n",
              "    }\n",
              "  }\n",
              "</style>\n",
              "\n",
              "  <script>\n",
              "    async function quickchart(key) {\n",
              "      const quickchartButtonEl =\n",
              "        document.querySelector('#' + key + ' button');\n",
              "      quickchartButtonEl.disabled = true;  // To prevent multiple clicks.\n",
              "      quickchartButtonEl.classList.add('colab-df-spinner');\n",
              "      try {\n",
              "        const charts = await google.colab.kernel.invokeFunction(\n",
              "            'suggestCharts', [key], {});\n",
              "      } catch (error) {\n",
              "        console.error('Error during call to suggestCharts:', error);\n",
              "      }\n",
              "      quickchartButtonEl.classList.remove('colab-df-spinner');\n",
              "      quickchartButtonEl.classList.add('colab-df-quickchart-complete');\n",
              "    }\n",
              "    (() => {\n",
              "      let quickchartButtonEl =\n",
              "        document.querySelector('#df-c1a2227f-60ce-40f9-8836-503f5c403685 button');\n",
              "      quickchartButtonEl.style.display =\n",
              "        google.colab.kernel.accessAllowed ? 'block' : 'none';\n",
              "    })();\n",
              "  </script>\n",
              "</div>\n",
              "\n",
              "    </div>\n",
              "  </div>\n"
            ],
            "application/vnd.google.colaboratory.intrinsic+json": {
              "type": "dataframe",
              "variable_name": "data"
            }
          },
          "metadata": {},
          "execution_count": 5
        }
      ]
    },
    {
      "cell_type": "code",
      "source": [
        "print(data.info())\n",
        "print(data.describe())"
      ],
      "metadata": {
        "colab": {
          "base_uri": "https://localhost:8080/"
        },
        "id": "B8uZSQn7CIw-",
        "outputId": "fadcfb20-3477-4c13-c9ff-847fe094e543"
      },
      "execution_count": 24,
      "outputs": [
        {
          "output_type": "stream",
          "name": "stdout",
          "text": [
            "<class 'pandas.core.frame.DataFrame'>\n",
            "RangeIndex: 7359 entries, 0 to 7358\n",
            "Data columns (total 29 columns):\n",
            " #   Column           Non-Null Count  Dtype  \n",
            "---  ------           --------------  -----  \n",
            " 0   Id               7359 non-null   object \n",
            " 1   groupId          7359 non-null   object \n",
            " 2   matchId          7358 non-null   object \n",
            " 3   assists          7358 non-null   float64\n",
            " 4   boosts           7358 non-null   float64\n",
            " 5   damageDealt      7358 non-null   float64\n",
            " 6   DBNOs            7358 non-null   float64\n",
            " 7   headshotKills    7358 non-null   float64\n",
            " 8   heals            7358 non-null   float64\n",
            " 9   killPlace        7358 non-null   float64\n",
            " 10  killPoints       7358 non-null   float64\n",
            " 11  kills            7358 non-null   float64\n",
            " 12  killStreaks      7358 non-null   float64\n",
            " 13  longestKill      7358 non-null   float64\n",
            " 14  matchDuration    7358 non-null   float64\n",
            " 15  matchType        7358 non-null   object \n",
            " 16  maxPlace         7358 non-null   float64\n",
            " 17  numGroups        7358 non-null   float64\n",
            " 18  rankPoints       7358 non-null   float64\n",
            " 19  revives          7358 non-null   float64\n",
            " 20  rideDistance     7358 non-null   float64\n",
            " 21  roadKills        7358 non-null   float64\n",
            " 22  swimDistance     7358 non-null   float64\n",
            " 23  teamKills        7358 non-null   float64\n",
            " 24  vehicleDestroys  7358 non-null   float64\n",
            " 25  walkDistance     7358 non-null   float64\n",
            " 26  weaponsAcquired  7358 non-null   float64\n",
            " 27  winPoints        7358 non-null   float64\n",
            " 28  winPlacePerc     7358 non-null   float64\n",
            "dtypes: float64(25), object(4)\n",
            "memory usage: 1.6+ MB\n",
            "None\n",
            "           assists       boosts  damageDealt        DBNOs  headshotKills  \\\n",
            "count  7358.000000  7358.000000  7358.000000  7358.000000    7358.000000   \n",
            "mean      0.223430     1.086301   127.799691     0.648546       0.215684   \n",
            "std       0.579037     1.702416   165.938442     1.149971       0.571003   \n",
            "min       0.000000     0.000000     0.000000     0.000000       0.000000   \n",
            "25%       0.000000     0.000000     0.000000     0.000000       0.000000   \n",
            "50%       0.000000     0.000000    81.260000     0.000000       0.000000   \n",
            "75%       0.000000     2.000000   181.800000     1.000000       0.000000   \n",
            "max      12.000000    15.000000  2498.000000    23.000000       8.000000   \n",
            "\n",
            "             heals    killPlace   killPoints        kills  killStreaks  ...  \\\n",
            "count  7358.000000  7358.000000  7358.000000  7358.000000  7358.000000  ...   \n",
            "mean      1.342348    47.914379   502.710383     0.903099     0.533569  ...   \n",
            "std       2.692036    27.402656   628.543989     1.512303     0.698472  ...   \n",
            "min       0.000000     1.000000     0.000000     0.000000     0.000000  ...   \n",
            "25%       0.000000    24.000000     0.000000     0.000000     0.000000  ...   \n",
            "50%       0.000000    47.500000     0.000000     0.000000     0.000000  ...   \n",
            "75%       1.000000    72.000000  1171.750000     1.000000     1.000000  ...   \n",
            "max      33.000000   100.000000  2023.000000    26.000000     5.000000  ...   \n",
            "\n",
            "           revives  rideDistance    roadKills  swimDistance    teamKills  \\\n",
            "count  7358.000000   7358.000000  7358.000000   7358.000000  7358.000000   \n",
            "mean      0.163496    608.387236     0.002582      4.604967     0.026774   \n",
            "std       0.476199   1501.872426     0.058236     28.564128     0.179000   \n",
            "min       0.000000      0.000000     0.000000      0.000000     0.000000   \n",
            "25%       0.000000      0.000000     0.000000      0.000000     0.000000   \n",
            "50%       0.000000      0.000000     0.000000      0.000000     0.000000   \n",
            "75%       0.000000      2.958750     0.000000      0.000000     0.000000   \n",
            "max       7.000000  13360.000000     2.000000    559.600000     4.000000   \n",
            "\n",
            "       vehicleDestroys  walkDistance  weaponsAcquired    winPoints  \\\n",
            "count      7358.000000   7358.000000      7358.000000  7358.000000   \n",
            "mean          0.007883   1151.692186         3.648138   602.823322   \n",
            "std           0.092936   1189.914923         2.400501   739.356993   \n",
            "min           0.000000      0.000000         0.000000     0.000000   \n",
            "25%           0.000000    150.700000         2.000000     0.000000   \n",
            "50%           0.000000    666.500000         3.000000     0.000000   \n",
            "75%           0.000000   1957.000000         5.000000  1495.000000   \n",
            "max           2.000000   9273.000000        30.000000  1914.000000   \n",
            "\n",
            "       winPlacePerc  \n",
            "count   7358.000000  \n",
            "mean       0.470552  \n",
            "std        0.306702  \n",
            "min        0.000000  \n",
            "25%        0.200000  \n",
            "50%        0.461500  \n",
            "75%        0.740700  \n",
            "max        1.000000  \n",
            "\n",
            "[8 rows x 25 columns]\n"
          ]
        }
      ]
    },
    {
      "cell_type": "code",
      "source": [
        "data.tail()"
      ],
      "metadata": {
        "colab": {
          "base_uri": "https://localhost:8080/",
          "height": 273
        },
        "id": "1rLQx011xRa_",
        "outputId": "91a5c968-4e54-43c6-8c2f-93847c691d25"
      },
      "execution_count": 6,
      "outputs": [
        {
          "output_type": "execute_result",
          "data": {
            "text/plain": [
              "      Unnamed: 0              Id         groupId         matchId  assists  \\\n",
              "7354      903293  b60145677c02e8  fe0eb59d88a7d3  523f79b292732b      1.0   \n",
              "7355     1622255  07a6bc9671bb3b  8228a10317f4bc  c3096fda145f7b      0.0   \n",
              "7356     3330876  c7838e04f4cbd9  bd7937a6656999  876556c04db933      1.0   \n",
              "7357     4082376  7410139fc0aae9  46e582c68f6b23  624eb553421531      0.0   \n",
              "7358     4003949  df894798b8c4f8          9a87ab             NaN      NaN   \n",
              "\n",
              "      boosts  damageDealt  DBNOs  headshotKills  heals  ...  revives  \\\n",
              "7354     4.0        72.05    0.0            0.0   16.0  ...      0.0   \n",
              "7355     0.0         0.00    0.0            0.0    0.0  ...      0.0   \n",
              "7356     1.0       187.50    1.0            0.0    1.0  ...      0.0   \n",
              "7357     0.0         0.00    0.0            0.0    1.0  ...      0.0   \n",
              "7358     NaN          NaN    NaN            NaN    NaN  ...      NaN   \n",
              "\n",
              "      rideDistance  roadKills  swimDistance  teamKills  vehicleDestroys  \\\n",
              "7354        2314.0        0.0         205.2        0.0              0.0   \n",
              "7355           0.0        0.0           0.0        0.0              0.0   \n",
              "7356        1443.0        0.0           0.0        0.0              0.0   \n",
              "7357         706.1        0.0           0.0        0.0              0.0   \n",
              "7358           NaN        NaN           NaN        NaN              NaN   \n",
              "\n",
              "     walkDistance  weaponsAcquired  winPoints  winPlacePerc  \n",
              "7354       1289.0              4.0        0.0        0.6923  \n",
              "7355        175.0              1.0        0.0        0.0000  \n",
              "7356       1512.0              5.0        0.0        0.5926  \n",
              "7357       2549.0              2.0        0.0        0.5652  \n",
              "7358          NaN              NaN        NaN           NaN  \n",
              "\n",
              "[5 rows x 30 columns]"
            ],
            "text/html": [
              "\n",
              "  <div id=\"df-58e793ac-3ba7-4729-a847-49d35a3c83c9\" class=\"colab-df-container\">\n",
              "    <div>\n",
              "<style scoped>\n",
              "    .dataframe tbody tr th:only-of-type {\n",
              "        vertical-align: middle;\n",
              "    }\n",
              "\n",
              "    .dataframe tbody tr th {\n",
              "        vertical-align: top;\n",
              "    }\n",
              "\n",
              "    .dataframe thead th {\n",
              "        text-align: right;\n",
              "    }\n",
              "</style>\n",
              "<table border=\"1\" class=\"dataframe\">\n",
              "  <thead>\n",
              "    <tr style=\"text-align: right;\">\n",
              "      <th></th>\n",
              "      <th>Unnamed: 0</th>\n",
              "      <th>Id</th>\n",
              "      <th>groupId</th>\n",
              "      <th>matchId</th>\n",
              "      <th>assists</th>\n",
              "      <th>boosts</th>\n",
              "      <th>damageDealt</th>\n",
              "      <th>DBNOs</th>\n",
              "      <th>headshotKills</th>\n",
              "      <th>heals</th>\n",
              "      <th>...</th>\n",
              "      <th>revives</th>\n",
              "      <th>rideDistance</th>\n",
              "      <th>roadKills</th>\n",
              "      <th>swimDistance</th>\n",
              "      <th>teamKills</th>\n",
              "      <th>vehicleDestroys</th>\n",
              "      <th>walkDistance</th>\n",
              "      <th>weaponsAcquired</th>\n",
              "      <th>winPoints</th>\n",
              "      <th>winPlacePerc</th>\n",
              "    </tr>\n",
              "  </thead>\n",
              "  <tbody>\n",
              "    <tr>\n",
              "      <th>7354</th>\n",
              "      <td>903293</td>\n",
              "      <td>b60145677c02e8</td>\n",
              "      <td>fe0eb59d88a7d3</td>\n",
              "      <td>523f79b292732b</td>\n",
              "      <td>1.0</td>\n",
              "      <td>4.0</td>\n",
              "      <td>72.05</td>\n",
              "      <td>0.0</td>\n",
              "      <td>0.0</td>\n",
              "      <td>16.0</td>\n",
              "      <td>...</td>\n",
              "      <td>0.0</td>\n",
              "      <td>2314.0</td>\n",
              "      <td>0.0</td>\n",
              "      <td>205.2</td>\n",
              "      <td>0.0</td>\n",
              "      <td>0.0</td>\n",
              "      <td>1289.0</td>\n",
              "      <td>4.0</td>\n",
              "      <td>0.0</td>\n",
              "      <td>0.6923</td>\n",
              "    </tr>\n",
              "    <tr>\n",
              "      <th>7355</th>\n",
              "      <td>1622255</td>\n",
              "      <td>07a6bc9671bb3b</td>\n",
              "      <td>8228a10317f4bc</td>\n",
              "      <td>c3096fda145f7b</td>\n",
              "      <td>0.0</td>\n",
              "      <td>0.0</td>\n",
              "      <td>0.00</td>\n",
              "      <td>0.0</td>\n",
              "      <td>0.0</td>\n",
              "      <td>0.0</td>\n",
              "      <td>...</td>\n",
              "      <td>0.0</td>\n",
              "      <td>0.0</td>\n",
              "      <td>0.0</td>\n",
              "      <td>0.0</td>\n",
              "      <td>0.0</td>\n",
              "      <td>0.0</td>\n",
              "      <td>175.0</td>\n",
              "      <td>1.0</td>\n",
              "      <td>0.0</td>\n",
              "      <td>0.0000</td>\n",
              "    </tr>\n",
              "    <tr>\n",
              "      <th>7356</th>\n",
              "      <td>3330876</td>\n",
              "      <td>c7838e04f4cbd9</td>\n",
              "      <td>bd7937a6656999</td>\n",
              "      <td>876556c04db933</td>\n",
              "      <td>1.0</td>\n",
              "      <td>1.0</td>\n",
              "      <td>187.50</td>\n",
              "      <td>1.0</td>\n",
              "      <td>0.0</td>\n",
              "      <td>1.0</td>\n",
              "      <td>...</td>\n",
              "      <td>0.0</td>\n",
              "      <td>1443.0</td>\n",
              "      <td>0.0</td>\n",
              "      <td>0.0</td>\n",
              "      <td>0.0</td>\n",
              "      <td>0.0</td>\n",
              "      <td>1512.0</td>\n",
              "      <td>5.0</td>\n",
              "      <td>0.0</td>\n",
              "      <td>0.5926</td>\n",
              "    </tr>\n",
              "    <tr>\n",
              "      <th>7357</th>\n",
              "      <td>4082376</td>\n",
              "      <td>7410139fc0aae9</td>\n",
              "      <td>46e582c68f6b23</td>\n",
              "      <td>624eb553421531</td>\n",
              "      <td>0.0</td>\n",
              "      <td>0.0</td>\n",
              "      <td>0.00</td>\n",
              "      <td>0.0</td>\n",
              "      <td>0.0</td>\n",
              "      <td>1.0</td>\n",
              "      <td>...</td>\n",
              "      <td>0.0</td>\n",
              "      <td>706.1</td>\n",
              "      <td>0.0</td>\n",
              "      <td>0.0</td>\n",
              "      <td>0.0</td>\n",
              "      <td>0.0</td>\n",
              "      <td>2549.0</td>\n",
              "      <td>2.0</td>\n",
              "      <td>0.0</td>\n",
              "      <td>0.5652</td>\n",
              "    </tr>\n",
              "    <tr>\n",
              "      <th>7358</th>\n",
              "      <td>4003949</td>\n",
              "      <td>df894798b8c4f8</td>\n",
              "      <td>9a87ab</td>\n",
              "      <td>NaN</td>\n",
              "      <td>NaN</td>\n",
              "      <td>NaN</td>\n",
              "      <td>NaN</td>\n",
              "      <td>NaN</td>\n",
              "      <td>NaN</td>\n",
              "      <td>NaN</td>\n",
              "      <td>...</td>\n",
              "      <td>NaN</td>\n",
              "      <td>NaN</td>\n",
              "      <td>NaN</td>\n",
              "      <td>NaN</td>\n",
              "      <td>NaN</td>\n",
              "      <td>NaN</td>\n",
              "      <td>NaN</td>\n",
              "      <td>NaN</td>\n",
              "      <td>NaN</td>\n",
              "      <td>NaN</td>\n",
              "    </tr>\n",
              "  </tbody>\n",
              "</table>\n",
              "<p>5 rows × 30 columns</p>\n",
              "</div>\n",
              "    <div class=\"colab-df-buttons\">\n",
              "\n",
              "  <div class=\"colab-df-container\">\n",
              "    <button class=\"colab-df-convert\" onclick=\"convertToInteractive('df-58e793ac-3ba7-4729-a847-49d35a3c83c9')\"\n",
              "            title=\"Convert this dataframe to an interactive table.\"\n",
              "            style=\"display:none;\">\n",
              "\n",
              "  <svg xmlns=\"http://www.w3.org/2000/svg\" height=\"24px\" viewBox=\"0 -960 960 960\">\n",
              "    <path d=\"M120-120v-720h720v720H120Zm60-500h600v-160H180v160Zm220 220h160v-160H400v160Zm0 220h160v-160H400v160ZM180-400h160v-160H180v160Zm440 0h160v-160H620v160ZM180-180h160v-160H180v160Zm440 0h160v-160H620v160Z\"/>\n",
              "  </svg>\n",
              "    </button>\n",
              "\n",
              "  <style>\n",
              "    .colab-df-container {\n",
              "      display:flex;\n",
              "      gap: 12px;\n",
              "    }\n",
              "\n",
              "    .colab-df-convert {\n",
              "      background-color: #E8F0FE;\n",
              "      border: none;\n",
              "      border-radius: 50%;\n",
              "      cursor: pointer;\n",
              "      display: none;\n",
              "      fill: #1967D2;\n",
              "      height: 32px;\n",
              "      padding: 0 0 0 0;\n",
              "      width: 32px;\n",
              "    }\n",
              "\n",
              "    .colab-df-convert:hover {\n",
              "      background-color: #E2EBFA;\n",
              "      box-shadow: 0px 1px 2px rgba(60, 64, 67, 0.3), 0px 1px 3px 1px rgba(60, 64, 67, 0.15);\n",
              "      fill: #174EA6;\n",
              "    }\n",
              "\n",
              "    .colab-df-buttons div {\n",
              "      margin-bottom: 4px;\n",
              "    }\n",
              "\n",
              "    [theme=dark] .colab-df-convert {\n",
              "      background-color: #3B4455;\n",
              "      fill: #D2E3FC;\n",
              "    }\n",
              "\n",
              "    [theme=dark] .colab-df-convert:hover {\n",
              "      background-color: #434B5C;\n",
              "      box-shadow: 0px 1px 3px 1px rgba(0, 0, 0, 0.15);\n",
              "      filter: drop-shadow(0px 1px 2px rgba(0, 0, 0, 0.3));\n",
              "      fill: #FFFFFF;\n",
              "    }\n",
              "  </style>\n",
              "\n",
              "    <script>\n",
              "      const buttonEl =\n",
              "        document.querySelector('#df-58e793ac-3ba7-4729-a847-49d35a3c83c9 button.colab-df-convert');\n",
              "      buttonEl.style.display =\n",
              "        google.colab.kernel.accessAllowed ? 'block' : 'none';\n",
              "\n",
              "      async function convertToInteractive(key) {\n",
              "        const element = document.querySelector('#df-58e793ac-3ba7-4729-a847-49d35a3c83c9');\n",
              "        const dataTable =\n",
              "          await google.colab.kernel.invokeFunction('convertToInteractive',\n",
              "                                                    [key], {});\n",
              "        if (!dataTable) return;\n",
              "\n",
              "        const docLinkHtml = 'Like what you see? Visit the ' +\n",
              "          '<a target=\"_blank\" href=https://colab.research.google.com/notebooks/data_table.ipynb>data table notebook</a>'\n",
              "          + ' to learn more about interactive tables.';\n",
              "        element.innerHTML = '';\n",
              "        dataTable['output_type'] = 'display_data';\n",
              "        await google.colab.output.renderOutput(dataTable, element);\n",
              "        const docLink = document.createElement('div');\n",
              "        docLink.innerHTML = docLinkHtml;\n",
              "        element.appendChild(docLink);\n",
              "      }\n",
              "    </script>\n",
              "  </div>\n",
              "\n",
              "\n",
              "<div id=\"df-7826f6c9-626f-42ee-ad4a-06421fa610cb\">\n",
              "  <button class=\"colab-df-quickchart\" onclick=\"quickchart('df-7826f6c9-626f-42ee-ad4a-06421fa610cb')\"\n",
              "            title=\"Suggest charts\"\n",
              "            style=\"display:none;\">\n",
              "\n",
              "<svg xmlns=\"http://www.w3.org/2000/svg\" height=\"24px\"viewBox=\"0 0 24 24\"\n",
              "     width=\"24px\">\n",
              "    <g>\n",
              "        <path d=\"M19 3H5c-1.1 0-2 .9-2 2v14c0 1.1.9 2 2 2h14c1.1 0 2-.9 2-2V5c0-1.1-.9-2-2-2zM9 17H7v-7h2v7zm4 0h-2V7h2v10zm4 0h-2v-4h2v4z\"/>\n",
              "    </g>\n",
              "</svg>\n",
              "  </button>\n",
              "\n",
              "<style>\n",
              "  .colab-df-quickchart {\n",
              "      --bg-color: #E8F0FE;\n",
              "      --fill-color: #1967D2;\n",
              "      --hover-bg-color: #E2EBFA;\n",
              "      --hover-fill-color: #174EA6;\n",
              "      --disabled-fill-color: #AAA;\n",
              "      --disabled-bg-color: #DDD;\n",
              "  }\n",
              "\n",
              "  [theme=dark] .colab-df-quickchart {\n",
              "      --bg-color: #3B4455;\n",
              "      --fill-color: #D2E3FC;\n",
              "      --hover-bg-color: #434B5C;\n",
              "      --hover-fill-color: #FFFFFF;\n",
              "      --disabled-bg-color: #3B4455;\n",
              "      --disabled-fill-color: #666;\n",
              "  }\n",
              "\n",
              "  .colab-df-quickchart {\n",
              "    background-color: var(--bg-color);\n",
              "    border: none;\n",
              "    border-radius: 50%;\n",
              "    cursor: pointer;\n",
              "    display: none;\n",
              "    fill: var(--fill-color);\n",
              "    height: 32px;\n",
              "    padding: 0;\n",
              "    width: 32px;\n",
              "  }\n",
              "\n",
              "  .colab-df-quickchart:hover {\n",
              "    background-color: var(--hover-bg-color);\n",
              "    box-shadow: 0 1px 2px rgba(60, 64, 67, 0.3), 0 1px 3px 1px rgba(60, 64, 67, 0.15);\n",
              "    fill: var(--button-hover-fill-color);\n",
              "  }\n",
              "\n",
              "  .colab-df-quickchart-complete:disabled,\n",
              "  .colab-df-quickchart-complete:disabled:hover {\n",
              "    background-color: var(--disabled-bg-color);\n",
              "    fill: var(--disabled-fill-color);\n",
              "    box-shadow: none;\n",
              "  }\n",
              "\n",
              "  .colab-df-spinner {\n",
              "    border: 2px solid var(--fill-color);\n",
              "    border-color: transparent;\n",
              "    border-bottom-color: var(--fill-color);\n",
              "    animation:\n",
              "      spin 1s steps(1) infinite;\n",
              "  }\n",
              "\n",
              "  @keyframes spin {\n",
              "    0% {\n",
              "      border-color: transparent;\n",
              "      border-bottom-color: var(--fill-color);\n",
              "      border-left-color: var(--fill-color);\n",
              "    }\n",
              "    20% {\n",
              "      border-color: transparent;\n",
              "      border-left-color: var(--fill-color);\n",
              "      border-top-color: var(--fill-color);\n",
              "    }\n",
              "    30% {\n",
              "      border-color: transparent;\n",
              "      border-left-color: var(--fill-color);\n",
              "      border-top-color: var(--fill-color);\n",
              "      border-right-color: var(--fill-color);\n",
              "    }\n",
              "    40% {\n",
              "      border-color: transparent;\n",
              "      border-right-color: var(--fill-color);\n",
              "      border-top-color: var(--fill-color);\n",
              "    }\n",
              "    60% {\n",
              "      border-color: transparent;\n",
              "      border-right-color: var(--fill-color);\n",
              "    }\n",
              "    80% {\n",
              "      border-color: transparent;\n",
              "      border-right-color: var(--fill-color);\n",
              "      border-bottom-color: var(--fill-color);\n",
              "    }\n",
              "    90% {\n",
              "      border-color: transparent;\n",
              "      border-bottom-color: var(--fill-color);\n",
              "    }\n",
              "  }\n",
              "</style>\n",
              "\n",
              "  <script>\n",
              "    async function quickchart(key) {\n",
              "      const quickchartButtonEl =\n",
              "        document.querySelector('#' + key + ' button');\n",
              "      quickchartButtonEl.disabled = true;  // To prevent multiple clicks.\n",
              "      quickchartButtonEl.classList.add('colab-df-spinner');\n",
              "      try {\n",
              "        const charts = await google.colab.kernel.invokeFunction(\n",
              "            'suggestCharts', [key], {});\n",
              "      } catch (error) {\n",
              "        console.error('Error during call to suggestCharts:', error);\n",
              "      }\n",
              "      quickchartButtonEl.classList.remove('colab-df-spinner');\n",
              "      quickchartButtonEl.classList.add('colab-df-quickchart-complete');\n",
              "    }\n",
              "    (() => {\n",
              "      let quickchartButtonEl =\n",
              "        document.querySelector('#df-7826f6c9-626f-42ee-ad4a-06421fa610cb button');\n",
              "      quickchartButtonEl.style.display =\n",
              "        google.colab.kernel.accessAllowed ? 'block' : 'none';\n",
              "    })();\n",
              "  </script>\n",
              "</div>\n",
              "\n",
              "    </div>\n",
              "  </div>\n"
            ],
            "application/vnd.google.colaboratory.intrinsic+json": {
              "type": "dataframe"
            }
          },
          "metadata": {},
          "execution_count": 6
        }
      ]
    },
    {
      "cell_type": "code",
      "source": [
        "data.shape"
      ],
      "metadata": {
        "colab": {
          "base_uri": "https://localhost:8080/"
        },
        "id": "8Q1CQaz1xVrZ",
        "outputId": "9e5b04ca-01b0-4413-8607-ff93b78fbe85"
      },
      "execution_count": 7,
      "outputs": [
        {
          "output_type": "execute_result",
          "data": {
            "text/plain": [
              "(7359, 30)"
            ]
          },
          "metadata": {},
          "execution_count": 7
        }
      ]
    },
    {
      "cell_type": "code",
      "source": [
        "data.columns"
      ],
      "metadata": {
        "colab": {
          "base_uri": "https://localhost:8080/"
        },
        "id": "LPp6x_QGxXhJ",
        "outputId": "342a4bff-ab94-4e8b-83c2-991bb4a89322"
      },
      "execution_count": 8,
      "outputs": [
        {
          "output_type": "execute_result",
          "data": {
            "text/plain": [
              "Index(['Unnamed: 0', 'Id', 'groupId', 'matchId', 'assists', 'boosts',\n",
              "       'damageDealt', 'DBNOs', 'headshotKills', 'heals', 'killPlace',\n",
              "       'killPoints', 'kills', 'killStreaks', 'longestKill', 'matchDuration',\n",
              "       'matchType', 'maxPlace', 'numGroups', 'rankPoints', 'revives',\n",
              "       'rideDistance', 'roadKills', 'swimDistance', 'teamKills',\n",
              "       'vehicleDestroys', 'walkDistance', 'weaponsAcquired', 'winPoints',\n",
              "       'winPlacePerc'],\n",
              "      dtype='object')"
            ]
          },
          "metadata": {},
          "execution_count": 8
        }
      ]
    },
    {
      "cell_type": "code",
      "source": [
        "data=data.drop(['Unnamed: 0'], axis=1)"
      ],
      "metadata": {
        "id": "ybXj5g37zPFI"
      },
      "execution_count": 9,
      "outputs": []
    },
    {
      "cell_type": "code",
      "source": [
        "data1=data['damageDealt'].dropna()"
      ],
      "metadata": {
        "id": "E4jd7amW0NyW"
      },
      "execution_count": 11,
      "outputs": []
    },
    {
      "cell_type": "code",
      "source": [
        "mean_data=np.mean(data['damageDealt'].dropna())\n",
        "print(mean_data)"
      ],
      "metadata": {
        "colab": {
          "base_uri": "https://localhost:8080/"
        },
        "id": "-AeGfywrzhkB",
        "outputId": "3772a927-0412-46ea-e998-60bf40e49904"
      },
      "execution_count": 14,
      "outputs": [
        {
          "output_type": "stream",
          "name": "stdout",
          "text": [
            "127.79969122044034\n"
          ]
        }
      ]
    },
    {
      "cell_type": "code",
      "source": [
        "mean_data=np.mean(data['walkDistance'].dropna())\n",
        "print(mean_data)"
      ],
      "metadata": {
        "colab": {
          "base_uri": "https://localhost:8080/"
        },
        "id": "ZLLHfTey0uU5",
        "outputId": "5f96ba2f-9c03-486d-d0e1-a1e85435e58a"
      },
      "execution_count": 15,
      "outputs": [
        {
          "output_type": "stream",
          "name": "stdout",
          "text": [
            "1151.6921861375372\n"
          ]
        }
      ]
    },
    {
      "cell_type": "code",
      "source": [
        "mode_data=data['damageDealt'].mode()[0]\n",
        "print(mode_data)"
      ],
      "metadata": {
        "colab": {
          "base_uri": "https://localhost:8080/"
        },
        "id": "P_zYvvca2120",
        "outputId": "3c6009b2-f300-4d9a-8756-9151d0ddca9d"
      },
      "execution_count": 17,
      "outputs": [
        {
          "output_type": "stream",
          "name": "stdout",
          "text": [
            "0.0\n"
          ]
        }
      ]
    },
    {
      "cell_type": "code",
      "source": [
        "median_data=data['damageDealt'].median()\n",
        "print(median_data)"
      ],
      "metadata": {
        "colab": {
          "base_uri": "https://localhost:8080/"
        },
        "id": "8DBSbnAm215t",
        "outputId": "ed08bcde-5d08-43d6-e50b-6d6cfdb56090"
      },
      "execution_count": 19,
      "outputs": [
        {
          "output_type": "stream",
          "name": "stdout",
          "text": [
            "81.25999999999999\n"
          ]
        }
      ]
    },
    {
      "cell_type": "code",
      "source": [
        "median_data=data['walkDistance'].median()\n",
        "print(median_data)"
      ],
      "metadata": {
        "colab": {
          "base_uri": "https://localhost:8080/"
        },
        "id": "hzzTRijXBpfA",
        "outputId": "73a344ad-c6b0-4127-fe47-f528e52b5ccb"
      },
      "execution_count": 21,
      "outputs": [
        {
          "output_type": "stream",
          "name": "stdout",
          "text": [
            "666.5\n"
          ]
        }
      ]
    },
    {
      "cell_type": "code",
      "source": [
        "# prompt: calculate variance\n",
        "\n",
        "variance_data = np.var(data['damageDealt'].dropna())\n",
        "print(\"Variance: \",variance_data)\n",
        "variance_data = np.var(data['walkDistance'].dropna())\n",
        "print(\"Variance: \",variance_data)"
      ],
      "metadata": {
        "colab": {
          "base_uri": "https://localhost:8080/"
        },
        "id": "a1FnIZ2DLswX",
        "outputId": "b203f1a4-28b8-4fdc-e45e-f88f37e54235"
      },
      "execution_count": 42,
      "outputs": [
        {
          "output_type": "stream",
          "name": "stdout",
          "text": [
            "Variance:  27531.82431366961\n",
            "Variance:  1415705.0941768887\n"
          ]
        }
      ]
    },
    {
      "cell_type": "code",
      "source": [
        "# prompt: calculate standard deviation\n",
        "\n",
        "standard_deviation_data = np.std(data['damageDealt'].dropna())\n",
        "print(\"Standard deviation : \",standard_deviation_data)\n",
        "standard_deviation_data = np.std(data['walkDistance'].dropna())\n",
        "print(\"Standard deviation : \",standard_deviation_data)\n"
      ],
      "metadata": {
        "colab": {
          "base_uri": "https://localhost:8080/"
        },
        "id": "zcaF466mLs4d",
        "outputId": "410e9a07-cb31-4fe7-c97f-c47bfbf55237"
      },
      "execution_count": 44,
      "outputs": [
        {
          "output_type": "stream",
          "name": "stdout",
          "text": [
            "Standard deviation :  165.9271656892554\n",
            "Standard deviation :  1189.8340616140088\n"
          ]
        }
      ]
    },
    {
      "cell_type": "code",
      "source": [
        "skew_data=data['damageDealt'].skew()\n",
        "print(skew_data)"
      ],
      "metadata": {
        "colab": {
          "base_uri": "https://localhost:8080/"
        },
        "id": "W1n9wj9aFwAO",
        "outputId": "34594e97-7f8e-4ca0-9192-f2aecdcbaabb"
      },
      "execution_count": 35,
      "outputs": [
        {
          "output_type": "stream",
          "name": "stdout",
          "text": [
            "2.6639592773801355\n"
          ]
        }
      ]
    },
    {
      "cell_type": "code",
      "source": [
        "kurtosis_data=data['damageDealt'].kurtosis()\n",
        "print(kurtosis_data)"
      ],
      "metadata": {
        "colab": {
          "base_uri": "https://localhost:8080/"
        },
        "id": "HllK_6LaF2lp",
        "outputId": "e59ff12c-207b-4b3e-fe0b-2d85139bc529"
      },
      "execution_count": 36,
      "outputs": [
        {
          "output_type": "stream",
          "name": "stdout",
          "text": [
            "13.103179842082138\n"
          ]
        }
      ]
    },
    {
      "cell_type": "code",
      "source": [
        "# prompt: prepare bar graph\n",
        "\n",
        "plt.figure(figsize=(15,5))\n",
        "plt.title(\"Damage Dealt by Players\")\n",
        "plt.xlabel(\"Damage Dealt\")\n",
        "plt.ylabel(\"Number of Players\")\n",
        "plt.hist(data1,bins=20,color=\"skyblue\")\n",
        "plt.axvline(mean_data, color='r', linestyle='dashed', linewidth=1, label=\"Mean\")\n",
        "plt.axvline(median_data, color='g', linestyle='dashed', linewidth=1, label=\"Median\")\n",
        "plt.axvline(mode_data, color='b', linestyle='dashed', linewidth=1, label=\"Mode\")\n",
        "plt.legend()\n",
        "plt.show()\n"
      ],
      "metadata": {
        "colab": {
          "base_uri": "https://localhost:8080/",
          "height": 372
        },
        "id": "ItMQqZX8219X",
        "outputId": "12a1b7fb-12f1-4f9e-b26d-8ad9dd23ee18"
      },
      "execution_count": 20,
      "outputs": [
        {
          "output_type": "display_data",
          "data": {
            "text/plain": [
              "<Figure size 1500x500 with 1 Axes>"
            ],
            "image/png": "[encoded data removed]"
          },
          "metadata": {}
        }
      ]
    },
    {
      "cell_type": "code",
      "source": [
        "# prompt: prepare bar graph for walking distance\n",
        "\n",
        "plt.figure(figsize=(15,5))\n",
        "plt.title(\"Walk Distance by Players\")\n",
        "plt.xlabel(\"Walk Distance\")\n",
        "plt.ylabel(\"Number of Players\")\n",
        "plt.hist(data['walkDistance'].dropna(), bins=20, color=\"skyblue\") # Use the 'walkDistance' column\n",
        "plt.show()"
      ],
      "metadata": {
        "colab": {
          "base_uri": "https://localhost:8080/",
          "height": 372
        },
        "id": "Njac0Jo022Kp",
        "outputId": "d329f82f-cae6-460d-c86f-17161bd1649e"
      },
      "execution_count": 22,
      "outputs": [
        {
          "output_type": "display_data",
          "data": {
            "text/plain": [
              "<Figure size 1500x500 with 1 Axes>"
            ],
            "image/png": "[encoded data removed]"
          },
          "metadata": {}
        }
      ]
    },
    {
      "cell_type": "code",
      "source": [
        "# prompt: prepare bar plot for datset\n",
        "\n",
        "import matplotlib.pyplot as plt\n",
        "import seaborn as sns\n",
        "\n",
        "# Assuming 'data' DataFrame is already loaded and processed as in the provided code\n",
        "\n",
        "plt.figure(figsize=(10, 6))\n",
        "sns.countplot(x='matchType', data=data)  # Replace 'matchType' with your desired categorical column\n",
        "plt.title('Match Type Distribution')\n",
        "plt.xlabel('Match Type')\n",
        "plt.ylabel('Number of Players')\n",
        "plt.xticks(rotation=45, ha='right')  # Rotate x-axis labels for better readability\n",
        "plt.tight_layout()\n",
        "plt.show()"
      ],
      "metadata": {
        "colab": {
          "base_uri": "https://localhost:8080/",
          "height": 578
        },
        "id": "G_bjq_gOGDKv",
        "outputId": "73131c3f-da13-473d-8219-47c31d2157b0"
      },
      "execution_count": 37,
      "outputs": [
        {
          "output_type": "display_data",
          "data": {
            "text/plain": [
              "<Figure size 1000x600 with 1 Axes>"
            ],
            "image/png": "[encoded data removed]"
          },
          "metadata": {}
        }
      ]
    },
    {
      "cell_type": "code",
      "source": [
        "# prompt: prepare line plot\n",
        "\n",
        "# Assuming 'data' DataFrame is already loaded and processed as in the provided code\n",
        "\n",
        "plt.figure(figsize=(10, 6))\n",
        "sns.lineplot(x='kills', y='damageDealt', data=data) # Replace 'kills' and 'damageDealt' with your desired columns\n",
        "plt.title('Line Plot of Kills vs. Damage Dealt')\n",
        "plt.xlabel('Kills')\n",
        "plt.ylabel('Damage Dealt')\n",
        "plt.show()"
      ],
      "metadata": {
        "colab": {
          "base_uri": "https://localhost:8080/",
          "height": 564
        },
        "id": "JrCjPQ-1GD_b",
        "outputId": "77926910-a290-48a5-8901-749ca019c97a"
      },
      "execution_count": 38,
      "outputs": [
        {
          "output_type": "display_data",
          "data": {
            "text/plain": [
              "<Figure size 1000x600 with 1 Axes>"
            ],
            "image/png": "[encoded data removed]"
          },
          "metadata": {}
        }
      ]
    },
    {
      "cell_type": "code",
      "source": [
        "# prompt: prepare box plot for datset\n",
        "\n",
        "plt.figure(figsize=(8, 6))\n",
        "sns.boxplot(x='matchType', y='winPlacePerc', data=data)\n",
        "plt.title('Box Plot of Win Percentage by Match Type')\n",
        "plt.xlabel('Match Type')\n",
        "plt.ylabel('Win Percentage')\n",
        "plt.xticks(rotation=45, ha='right')\n",
        "plt.tight_layout()\n",
        "plt.show()"
      ],
      "metadata": {
        "colab": {
          "base_uri": "https://localhost:8080/",
          "height": 607
        },
        "id": "ucy7-PEqGEC5",
        "outputId": "29e1dc96-ee4d-4216-f3b8-8bf75c97a557"
      },
      "execution_count": 39,
      "outputs": [
        {
          "output_type": "display_data",
          "data": {
            "text/plain": [
              "<Figure size 800x600 with 1 Axes>"
            ],
            "image/png": "[encoded data removed]"
          },
          "metadata": {}
        }
      ]
    },
    {
      "cell_type": "code",
      "source": [
        "import scipy\n",
        "from scipy.stats import skew, kurtosis\n",
        "from sklearn.model_selection import train_test_split\n",
        "from sklearn.naive_bayes import GaussianNB\n",
        "from sklearn.metrics import accuracy_score, classification_report\n",
        "from sklearn.naive_bayes import MultinomialNB"
      ],
      "metadata": {
        "id": "2Gn-CID5B7xC"
      },
      "execution_count": 23,
      "outputs": []
    },
    {
      "cell_type": "code",
      "source": [
        "# prompt: remove null values from walking distance\n",
        "\n",
        "# Drop rows with null values in the 'walkDistance' column\n",
        "data = data.dropna(subset=['walkDistance'])\n",
        "\n"
      ],
      "metadata": {
        "id": "Qi02UMk_FIVv"
      },
      "execution_count": 33,
      "outputs": []
    },
    {
      "cell_type": "code",
      "source": [
        "# Apply bayes theorum\n",
        "\n",
        "# Assuming 'data' DataFrame is already prepared as in the provided code.\n",
        "\n",
        "data['winPlacePerc_bins'] = pd.cut(data['winPlacePerc'], bins=5, labels=False)\n",
        "# Define features (X) and target variable (y)\n",
        "X = data['walkDistance'].values.reshape(-1, 1)  # Reshape to 2D array\n",
        "y = data['winPlacePerc_bins']  # Use the binned target variable\n",
        "\n",
        "# Split data into training and testing sets\n",
        "X_train, X_test, y_train, y_test = train_test_split(X, y, test_size=0.2, random_state=42)\n",
        "\n",
        "# Initialize and train a Gaussian Naive Bayes model\n",
        "model = GaussianNB()\n",
        "model.fit(X_train, y_train)\n",
        "\n",
        "# Make predictions on the test set\n",
        "y_pred = model.predict(X_test)\n",
        "\n",
        "# Evaluate the model\n",
        "accuracy = accuracy_score(y_test, y_pred)\n",
        "print(f\"Accuracy: {accuracy}\")\n",
        "print(classification_report(y_test, y_pred))"
      ],
      "metadata": {
        "colab": {
          "base_uri": "https://localhost:8080/"
        },
        "id": "mQMtHFeDCDUj",
        "outputId": "752ac0f9-c4da-4ee4-ea24-857f7f62e160"
      },
      "execution_count": 34,
      "outputs": [
        {
          "output_type": "stream",
          "name": "stdout",
          "text": [
            "Accuracy: 0.5244565217391305\n",
            "              precision    recall  f1-score   support\n",
            "\n",
            "           0       0.58      0.93      0.72       361\n",
            "           1       0.40      0.31      0.35       300\n",
            "           2       0.38      0.30      0.34       271\n",
            "           3       0.48      0.21      0.29       271\n",
            "           4       0.62      0.77      0.69       269\n",
            "\n",
            "    accuracy                           0.52      1472\n",
            "   macro avg       0.49      0.50      0.47      1472\n",
            "weighted avg       0.50      0.52      0.49      1472\n",
            "\n"
          ]
        },
        {
          "output_type": "stream",
          "name": "stderr",
          "text": [
            "<ipython-input-34-344cfeb157b9>:5: SettingWithCopyWarning: \n",
            "A value is trying to be set on a copy of a slice from a DataFrame.\n",
            "Try using .loc[row_indexer,col_indexer] = value instead\n",
            "\n",
            "See the caveats in the documentation: https://pandas.pydata.org/pandas-docs/stable/user_guide/indexing.html#returning-a-view-versus-a-copy\n",
            "  data['winPlacePerc_bins'] = pd.cut(data['winPlacePerc'], bins=5, labels=False)\n"
          ]
        }
      ]
    },
    {
      "cell_type": "code",
      "source": [],
      "metadata": {
        "id": "-3v47EveC097"
      },
      "execution_count": null,
      "outputs": []
    }
  ]
}